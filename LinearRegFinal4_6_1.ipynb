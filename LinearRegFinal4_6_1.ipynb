{
  "cells": [
    {
      "cell_type": "markdown",
      "metadata": {
        "id": "view-in-github",
        "colab_type": "text"
      },
      "source": [
        "<a href=\"https://colab.research.google.com/github/lapluu/Coursera-getting-and-cleaning-data-project/blob/master/LinearRegFinal4_6_1.ipynb\" target=\"_parent\"><img src=\"https://colab.research.google.com/assets/colab-badge.svg\" alt=\"Open In Colab\"/></a>"
      ]
    },
    {
      "cell_type": "code",
      "execution_count": null,
      "metadata": {
        "colab": {
          "base_uri": "https://localhost:8080/"
        },
        "id": "HqdhdVQJnAUF",
        "outputId": "4e1b32c9-372c-4f31-c231-d18394f9c380"
      },
      "outputs": [
        {
          "output_type": "stream",
          "name": "stdout",
          "text": [
            "Mounted at /content/drive\n"
          ]
        }
      ],
      "source": [
        "from google.colab import drive\n",
        "drive.mount('/content/drive')"
      ]
    },
    {
      "cell_type": "code",
      "execution_count": null,
      "metadata": {
        "colab": {
          "base_uri": "https://localhost:8080/"
        },
        "id": "NA6TOzAgajb6",
        "outputId": "0d044a82-dd26-479d-f140-659e8f76146f"
      },
      "outputs": [
        {
          "output_type": "stream",
          "name": "stdout",
          "text": [
            "\u001b[2K     \u001b[90m━━━━━━━━━━━━━━━━━━━━━━━━━━━━━━━━━━━━━━━━\u001b[0m \u001b[32m129.5/129.5 kB\u001b[0m \u001b[31m3.2 MB/s\u001b[0m eta \u001b[36m0:00:00\u001b[0m\n",
            "\u001b[2K     \u001b[90m━━━━━━━━━━━━━━━━━━━━━━━━━━━━━━━━━━━━━━━━\u001b[0m \u001b[32m950.8/950.8 kB\u001b[0m \u001b[31m26.3 MB/s\u001b[0m eta \u001b[36m0:00:00\u001b[0m\n",
            "\u001b[?25h"
          ]
        }
      ],
      "source": [
        "!pip install -q -U keras-tuner"
      ]
    },
    {
      "cell_type": "code",
      "execution_count": null,
      "metadata": {
        "colab": {
          "base_uri": "https://localhost:8080/"
        },
        "id": "Amp9YO3balXI",
        "outputId": "1865b752-7de0-4d48-85cd-9acdf3b89f26"
      },
      "outputs": [
        {
          "output_type": "stream",
          "name": "stdout",
          "text": [
            "Using TensorFlow backend\n"
          ]
        }
      ],
      "source": [
        "import numpy as np\n",
        "import pandas as pd\n",
        "import matplotlib.pyplot as plt\n",
        "import logging\n",
        "import tensorflow as tf\n",
        "import keras_tuner as kt\n",
        "from sklearn.metrics import *\n",
        "from sklearn.preprocessing import MinMaxScaler\n",
        "from tensorflow import keras\n",
        "from tensorflow.python.keras.layers import LSTM, Dense, Dropout\n",
        "from tensorflow.python.keras.callbacks import EarlyStopping\n",
        "#from keras_tuner.tuners import RandomSearch, Hyperband, BayesianOptimization\n",
        "import json\n",
        "from datetime import datetime\n",
        "\n",
        "logging.basicConfig(level=logging.INFO)"
      ]
    },
    {
      "cell_type": "code",
      "execution_count": null,
      "metadata": {
        "id": "C00qLn_sa1BS"
      },
      "outputs": [],
      "source": [
        "INPUT_DATA_FILE = '/content/drive/My Drive/Anyfile Notepad Files/AAPL_2013_2023_10_04.csv'\n",
        "\n",
        "def load_and_preprocess_data(filename):\n",
        "    df = pd.read_csv(filename).dropna()\n",
        "    logging.info(\"Data loaded successfully.\")\n",
        "    df[\"Date\"] = pd.to_datetime(df[\"Date\"])\n",
        "    close_prices = df[[\"Date\", \"Close\"]].copy()\n",
        "    close_prices.columns = [\"ds\", \"y\"]\n",
        "    close_prices.set_index(\"ds\", inplace=True)\n",
        "    scaler = MinMaxScaler(feature_range=(0, 1))\n",
        "    close_prices_scaled = scaler.fit_transform(close_prices)\n",
        "    logging.info(\"Data normalized.\")\n",
        "    return df, close_prices, close_prices_scaled, scaler\n",
        "\n",
        "df, close_prices, close_prices_scaled, scaler = load_and_preprocess_data(INPUT_DATA_FILE)\n"
      ]
    },
    {
      "cell_type": "markdown",
      "source": [
        "version 4_6: Sept 22,2023\n",
        "- Split data into (70%, 20%, 10%) for train,valuatiton, test sets."
      ],
      "metadata": {
        "id": "MH74fDYQ4TSX"
      }
    },
    {
      "cell_type": "markdown",
      "source": [
        "Split data into ( 70%, 20 %, 10%) for train, eval,test sets"
      ],
      "metadata": {
        "id": "dtALFQhK7-Gu"
      }
    },
    {
      "cell_type": "code",
      "execution_count": null,
      "metadata": {
        "id": "qDfV68vibAtH"
      },
      "outputs": [],
      "source": [
        "TIMESTEPS = 60\n",
        "\n",
        "def split_data(data, timesteps):\n",
        "    if len(data) != 0:\n",
        "       # Adjust the length of data so that its total length is a multiple of TIMESTEPS\n",
        "       remainder = len(data) % TIMESTEPS\n",
        "       if remainder != 0:\n",
        "                data2 = data[remainder:] # drop the earliest data\n",
        "       # Split the adjusted data into train, evaluation and test\n",
        "       Y_units = len(data2) // timesteps\n",
        "       test_units = Y_units * 10 // 100  # 10 %\n",
        "       eval_units = Y_units * 20 // 100  # 20%\n",
        "       train_size = (Y_units - (test_units + eval_units)) * timesteps # 70%\n",
        "       test_data = data2[-test_units * timesteps:] # 10 %\n",
        "       eval_data = data2[-(test_units + eval_units) * timesteps:-test_units * timesteps] # 20%\n",
        "       train_data = data2[:-(test_units + eval_units) * timesteps] # 70%\n",
        "       logging.info(f\"Training data size: {train_size} / {len(data2)} \")\n",
        "\n",
        "       return train_data, eval_data, test_data, train_size\n",
        "    else:\n",
        "        raise Exception('Data set is empty, cannot split.')\n",
        "\n",
        "train_data, valuation_data, test_data, train_size = split_data(close_prices_scaled,TIMESTEPS)"
      ]
    },
    {
      "cell_type": "code",
      "source": [
        "close_prices_scaled.shape, train_data.shape, valuation_data.shape, test_data.shape, train_size\n"
      ],
      "metadata": {
        "colab": {
          "base_uri": "https://localhost:8080/"
        },
        "id": "OiXkf8b6CDM1",
        "outputId": "7e37e3fb-c357-4067-87d2-3289042db98f"
      },
      "execution_count": null,
      "outputs": [
        {
          "output_type": "execute_result",
          "data": {
            "text/plain": [
              "((2516, 1), (1740, 1), (480, 1), (240, 1), 1740)"
            ]
          },
          "metadata": {},
          "execution_count": 11
        }
      ]
    },
    {
      "cell_type": "code",
      "source": [
        "rem = len(close_prices_scaled) % 60\n",
        "rem"
      ],
      "metadata": {
        "colab": {
          "base_uri": "https://localhost:8080/"
        },
        "id": "pMzo5X1dCuEH",
        "outputId": "821b6ed6-4a4e-4035-a164-314f123c3088"
      },
      "execution_count": null,
      "outputs": [
        {
          "output_type": "execute_result",
          "data": {
            "text/plain": [
              "56"
            ]
          },
          "metadata": {},
          "execution_count": 30
        }
      ]
    },
    {
      "cell_type": "code",
      "source": [
        "close_re = close_prices_scaled[rem:]\n",
        "close_re.shape"
      ],
      "metadata": {
        "colab": {
          "base_uri": "https://localhost:8080/"
        },
        "id": "-ZagGHjXC9Kh",
        "outputId": "b1d9bc93-e55f-4acb-c594-438abdee4484"
      },
      "execution_count": null,
      "outputs": [
        {
          "output_type": "execute_result",
          "data": {
            "text/plain": [
              "(2460, 1)"
            ]
          },
          "metadata": {},
          "execution_count": 32
        }
      ]
    },
    {
      "cell_type": "code",
      "execution_count": null,
      "metadata": {
        "id": "4gv5kdZSbuNv"
      },
      "outputs": [],
      "source": [
        "def create_dataset(data, look_back=60):\n",
        "    X, Y = [], []\n",
        "    for i in range(look_back, len(data)):\n",
        "        X.append(data[i - look_back: i, 0])\n",
        "        Y.append(data[i, 0])\n",
        "    X, Y = np.array(X), np.array(Y)\n",
        "    X = np.reshape(X, (X.shape[0], X.shape[1], 1))\n",
        "    return X, Y\n",
        "\n",
        "X_train, Y_train = create_dataset(train_data, TIMESTEPS)\n",
        "X_valuation, Y_valuation = create_dataset(valuation_data, TIMESTEPS)\n",
        "X_test, Y_test = create_dataset(test_data, TIMESTEPS)"
      ]
    },
    {
      "cell_type": "code",
      "execution_count": null,
      "metadata": {
        "id": "gtfYp4bvkFYz",
        "colab": {
          "base_uri": "https://localhost:8080/"
        },
        "outputId": "ffe2d48d-919e-4e17-d59f-51e8b866bce1"
      },
      "outputs": [
        {
          "output_type": "execute_result",
          "data": {
            "text/plain": [
              "((1680, 60, 1), 1740, (420, 60, 1), (180, 60, 1))"
            ]
          },
          "metadata": {},
          "execution_count": 13
        }
      ],
      "source": [
        "X_train.shape,train_size,X_valuation.shape,X_test.shape"
      ]
    },
    {
      "cell_type": "code",
      "execution_count": null,
      "metadata": {
        "colab": {
          "base_uri": "https://localhost:8080/"
        },
        "id": "Az5Rx0c7cC35",
        "outputId": "981255ae-1441-47ad-af77-990ef7bbdb47"
      },
      "outputs": [
        {
          "output_type": "stream",
          "name": "stdout",
          "text": [
            "Search space summary\n",
            "Default search space size: 7\n",
            "units_input (Int)\n",
            "{'default': None, 'conditions': [], 'min_value': 32, 'max_value': 256, 'step': 32, 'sampling': 'linear'}\n",
            "dropout_1 (Float)\n",
            "{'default': 0.0, 'conditions': [], 'min_value': 0.0, 'max_value': 0.5, 'step': 0.1, 'sampling': 'linear'}\n",
            "units_hidden (Int)\n",
            "{'default': None, 'conditions': [], 'min_value': 32, 'max_value': 256, 'step': 32, 'sampling': 'linear'}\n",
            "dropout_2 (Float)\n",
            "{'default': 0.0, 'conditions': [], 'min_value': 0.0, 'max_value': 0.5, 'step': 0.1, 'sampling': 'linear'}\n",
            "units_output (Int)\n",
            "{'default': None, 'conditions': [], 'min_value': 32, 'max_value': 256, 'step': 32, 'sampling': 'linear'}\n",
            "dropout_3 (Float)\n",
            "{'default': 0.0, 'conditions': [], 'min_value': 0.0, 'max_value': 0.5, 'step': 0.1, 'sampling': 'linear'}\n",
            "learning_rate (Choice)\n",
            "{'default': 0.01, 'conditions': [], 'values': [0.01, 0.001, 0.0001], 'ordered': True}\n"
          ]
        }
      ],
      "source": [
        "SELECTED_TUNER = \"RandomSearch\"  # Options: \"RandomSearch\", \"Hyperband\", \"BayesianOptimization\"\n",
        "TUNER_SAVED_MODEL_PATH = '/content/drive/MyDrive/project/'\n",
        "TUNER_PROJECT_NAME = 'Stock Price LSTM'\n",
        "SEARCH_OBJECTIVE = \"val_loss\"\n",
        "\n",
        "def build_model(hp, input_shape):\n",
        "    model = keras.Sequential()\n",
        "    model.add(LSTM(units=hp.Int('units_input', min_value=32, max_value=256, step=32),\n",
        "                   return_sequences=True, input_shape=input_shape))\n",
        "    model.add(Dropout(rate=hp.Float('dropout_1', min_value=0.0, max_value=0.5, step=0.1)))\n",
        "    model.add(LSTM(units=hp.Int('units_hidden', min_value=32, max_value=256, step=32), return_sequences=True))\n",
        "    model.add(Dropout(rate=hp.Float('dropout_2', min_value=0.0, max_value=0.5, step=0.1)))\n",
        "    model.add(LSTM(units=hp.Int('units_output', min_value=32, max_value=256, step=32)))\n",
        "    model.add(Dropout(rate=hp.Float('dropout_3', min_value=0.0, max_value=0.5, step=0.1)))\n",
        "    model.add(Dense(units=1))\n",
        "    # Tune the learning rate for the optimizer\n",
        "    # Choose an optimal value from 0.01, 0.001, or 0.0001\n",
        "    hp_learning_rate = hp.Choice('learning_rate', values=[1e-2, 1e-3, 1e-4])\n",
        "    model.compile(optimizer=keras.optimizers.Adam(learning_rate=hp_learning_rate),\n",
        "                loss=keras.losses.mean_squared_logarithmic_error)\n",
        "    return model\n",
        "\n",
        "def get_tuner(name, input_shape,search_objective, tuner_directory, tuner_project_name):\n",
        "    if name == \"RandomSearch\":\n",
        "        return kt.RandomSearch(lambda hp: build_model(hp, input_shape), objective='val_loss', max_trials=5, overwrite=False,\n",
        "                            executions_per_trial=3, directory=tuner_directory, project_name=tuner_project_name)\n",
        "    elif name == \"Hyperband\":\n",
        "        return kt.Hyperband(lambda hp: build_model(hp, input_shape), objective='val_loss', max_epochs=100, overwrite=False,\n",
        "                         max_retries_per_trial=1, executions_per_trial=2, directory=tuner_directory, project_name=tuner_project_name)\n",
        "    elif name == \"BayesianOptimization\":\n",
        "        return kt.BayesianOptimization(lambda hp: build_model(hp, input_shape), objective='val_loss', max_trials=10, overwrite=False,\n",
        "                                    directory=tuner_directory, project_name=tuner_project_name)\n",
        "    else:\n",
        "        raise ValueError(f\"Unsupported tuner: {name}\")\n",
        "\n",
        "\n",
        "\n",
        "\n",
        "tuner = get_tuner(SELECTED_TUNER, (X_train.shape[1], 1), TUNER_SAVED_MODEL_PATH, TUNER_PROJECT_NAME, SEARCH_OBJECTIVE)\n",
        "\n",
        "tuner.search_space_summary()"
      ]
    },
    {
      "cell_type": "code",
      "execution_count": null,
      "metadata": {
        "colab": {
          "base_uri": "https://localhost:8080/",
          "height": 1000
        },
        "id": "kHYlwttJcZNM",
        "outputId": "e218a187-9939-438a-8e58-228bb5f943b4"
      },
      "outputs": [
        {
          "output_type": "stream",
          "name": "stdout",
          "text": [
            "Trial 1 Complete [00h 35m 36s]\n",
            "val_loss: 0.3070196509361267\n",
            "\n",
            "Best val_loss So Far: 0.3070196509361267\n",
            "Total elapsed time: 00h 35m 36s\n",
            "\n",
            "Search: Running Trial #2\n",
            "\n",
            "Value             |Best Value So Far |Hyperparameter\n",
            "96                |224               |units_input\n",
            "0.3               |0.4               |dropout_1\n",
            "256               |256               |units_hidden\n",
            "0                 |0.2               |dropout_2\n",
            "160               |224               |units_output\n",
            "0.1               |0.4               |dropout_3\n",
            "0.0001            |0.01              |learning_rate\n",
            "\n",
            "Epoch 1/60\n",
            "53/53 [==============================] - 53s 819ms/step - loss: 0.0060 - val_loss: 7.2031e-04\n",
            "Epoch 2/60\n",
            "53/53 [==============================] - 42s 804ms/step - loss: 2.5698e-04 - val_loss: 0.0011\n",
            "Epoch 3/60\n",
            "53/53 [==============================] - 43s 805ms/step - loss: 2.4194e-04 - val_loss: 6.9079e-04\n",
            "Epoch 4/60\n",
            "53/53 [==============================] - 42s 800ms/step - loss: 2.1628e-04 - val_loss: 0.0013\n",
            "Epoch 5/60\n",
            "53/53 [==============================] - 43s 812ms/step - loss: 2.1413e-04 - val_loss: 9.1724e-04\n",
            "Epoch 6/60\n",
            "53/53 [==============================] - 42s 805ms/step - loss: 1.9909e-04 - val_loss: 0.0012\n",
            "Epoch 7/60\n",
            "53/53 [==============================] - 43s 807ms/step - loss: 1.9308e-04 - val_loss: 6.0909e-04\n",
            "Epoch 8/60\n",
            "53/53 [==============================] - 43s 814ms/step - loss: 2.1205e-04 - val_loss: 5.8876e-04\n",
            "Epoch 9/60\n",
            "53/53 [==============================] - 42s 797ms/step - loss: 1.8248e-04 - val_loss: 6.6040e-04\n",
            "Epoch 10/60\n",
            "53/53 [==============================] - 43s 805ms/step - loss: 1.8913e-04 - val_loss: 5.5297e-04\n",
            "Epoch 11/60\n",
            "53/53 [==============================] - 42s 791ms/step - loss: 2.1475e-04 - val_loss: 8.7155e-04\n",
            "Epoch 12/60\n",
            "53/53 [==============================] - 42s 794ms/step - loss: 1.7318e-04 - val_loss: 6.6789e-04\n",
            "Epoch 13/60\n",
            "53/53 [==============================] - 40s 765ms/step - loss: 1.7895e-04 - val_loss: 8.7375e-04\n",
            "Epoch 14/60\n",
            "53/53 [==============================] - 41s 759ms/step - loss: 1.8717e-04 - val_loss: 7.7548e-04\n",
            "Epoch 15/60\n",
            "53/53 [==============================] - 43s 787ms/step - loss: 1.7484e-04 - val_loss: 4.5904e-04\n",
            "Epoch 16/60\n",
            "53/53 [==============================] - 42s 781ms/step - loss: 1.6310e-04 - val_loss: 6.7035e-04\n",
            "Epoch 17/60\n",
            "53/53 [==============================] - 43s 791ms/step - loss: 1.5132e-04 - val_loss: 4.5781e-04\n",
            "Epoch 18/60\n",
            "53/53 [==============================] - 42s 777ms/step - loss: 1.4534e-04 - val_loss: 5.6065e-04\n",
            "Epoch 19/60\n",
            "53/53 [==============================] - 42s 780ms/step - loss: 1.6342e-04 - val_loss: 4.8069e-04\n",
            "Epoch 20/60\n",
            "53/53 [==============================] - 43s 788ms/step - loss: 1.5266e-04 - val_loss: 4.2731e-04\n",
            "Epoch 21/60\n",
            "53/53 [==============================] - 42s 774ms/step - loss: 1.3943e-04 - val_loss: 4.5968e-04\n",
            "Epoch 22/60\n",
            "53/53 [==============================] - 42s 773ms/step - loss: 1.4260e-04 - val_loss: 3.8772e-04\n",
            "Epoch 23/60\n",
            "53/53 [==============================] - 42s 797ms/step - loss: 1.3685e-04 - val_loss: 3.9414e-04\n",
            "Epoch 24/60\n",
            "53/53 [==============================] - 43s 808ms/step - loss: 1.3160e-04 - val_loss: 3.9454e-04\n",
            "Epoch 25/60\n",
            "53/53 [==============================] - 42s 799ms/step - loss: 1.3131e-04 - val_loss: 4.6446e-04\n",
            "Epoch 26/60\n",
            "53/53 [==============================] - 42s 798ms/step - loss: 1.3884e-04 - val_loss: 3.6507e-04\n",
            "Epoch 27/60\n",
            "53/53 [==============================] - 42s 797ms/step - loss: 1.2909e-04 - val_loss: 4.1753e-04\n",
            "Epoch 28/60\n",
            "53/53 [==============================] - 42s 796ms/step - loss: 1.2738e-04 - val_loss: 3.4718e-04\n",
            "Epoch 29/60\n",
            "53/53 [==============================] - 42s 793ms/step - loss: 1.2533e-04 - val_loss: 3.4578e-04\n",
            "Epoch 30/60\n",
            "53/53 [==============================] - 42s 803ms/step - loss: 1.3947e-04 - val_loss: 3.9937e-04\n",
            "Epoch 31/60\n",
            "53/53 [==============================] - 42s 793ms/step - loss: 1.2763e-04 - val_loss: 5.4847e-04\n",
            "Epoch 32/60\n",
            "53/53 [==============================] - 42s 804ms/step - loss: 1.4673e-04 - val_loss: 3.3107e-04\n",
            "Epoch 33/60\n",
            "53/53 [==============================] - 42s 792ms/step - loss: 1.2653e-04 - val_loss: 4.9300e-04\n",
            "Epoch 34/60\n",
            "53/53 [==============================] - 42s 799ms/step - loss: 1.2012e-04 - val_loss: 4.2053e-04\n",
            "Epoch 35/60\n",
            "53/53 [==============================] - 42s 797ms/step - loss: 1.2454e-04 - val_loss: 9.2598e-04\n",
            "Epoch 36/60\n",
            "53/53 [==============================] - 42s 797ms/step - loss: 1.3213e-04 - val_loss: 3.1910e-04\n",
            "Epoch 37/60\n",
            "53/53 [==============================] - 42s 797ms/step - loss: 1.1354e-04 - val_loss: 3.7391e-04\n",
            "Epoch 38/60\n",
            "53/53 [==============================] - 43s 808ms/step - loss: 1.2124e-04 - val_loss: 3.0556e-04\n",
            "Epoch 39/60\n",
            "53/53 [==============================] - 42s 797ms/step - loss: 1.2974e-04 - val_loss: 3.8952e-04\n",
            "Epoch 40/60\n",
            "53/53 [==============================] - 43s 809ms/step - loss: 1.2500e-04 - val_loss: 3.0318e-04\n",
            "Epoch 41/60\n",
            "53/53 [==============================] - 43s 808ms/step - loss: 1.1275e-04 - val_loss: 2.9967e-04\n",
            "Epoch 42/60\n",
            "53/53 [==============================] - 42s 801ms/step - loss: 1.0897e-04 - val_loss: 2.9191e-04\n",
            "Epoch 43/60\n",
            "53/53 [==============================] - 42s 794ms/step - loss: 1.0820e-04 - val_loss: 3.1415e-04\n",
            "Epoch 44/60\n",
            "53/53 [==============================] - 42s 794ms/step - loss: 1.0828e-04 - val_loss: 2.9246e-04\n",
            "Epoch 45/60\n",
            "53/53 [==============================] - 43s 808ms/step - loss: 1.2356e-04 - val_loss: 2.8611e-04\n",
            "Epoch 46/60\n",
            "53/53 [==============================] - 42s 804ms/step - loss: 1.3094e-04 - val_loss: 2.9355e-04\n",
            "Epoch 47/60\n",
            "53/53 [==============================] - 42s 798ms/step - loss: 1.1276e-04 - val_loss: 2.8259e-04\n",
            "Epoch 48/60\n",
            "53/53 [==============================] - 42s 800ms/step - loss: 1.1695e-04 - val_loss: 2.7702e-04\n",
            "Epoch 49/60\n",
            "53/53 [==============================] - 42s 805ms/step - loss: 1.0577e-04 - val_loss: 2.8376e-04\n",
            "Epoch 50/60\n",
            "53/53 [==============================] - 43s 805ms/step - loss: 1.0428e-04 - val_loss: 2.8767e-04\n",
            "Epoch 51/60\n",
            "53/53 [==============================] - 42s 800ms/step - loss: 1.0474e-04 - val_loss: 4.0077e-04\n",
            "Epoch 52/60\n",
            "53/53 [==============================] - 42s 787ms/step - loss: 1.0826e-04 - val_loss: 2.7411e-04\n",
            "Epoch 53/60\n",
            "53/53 [==============================] - 41s 767ms/step - loss: 1.1145e-04 - val_loss: 2.6642e-04\n",
            "Epoch 54/60\n",
            "53/53 [==============================] - 40s 751ms/step - loss: 9.8190e-05 - val_loss: 2.8809e-04\n",
            "Epoch 55/60\n",
            "53/53 [==============================] - 41s 765ms/step - loss: 1.0140e-04 - val_loss: 3.5396e-04\n",
            "Epoch 56/60\n",
            "53/53 [==============================] - 42s 782ms/step - loss: 1.0304e-04 - val_loss: 3.5056e-04\n",
            "Epoch 57/60\n",
            "53/53 [==============================] - 42s 803ms/step - loss: 1.0120e-04 - val_loss: 2.9543e-04\n",
            "Epoch 58/60\n",
            "53/53 [==============================] - 42s 791ms/step - loss: 1.1571e-04 - val_loss: 4.2141e-04\n",
            "Epoch 59/60\n",
            "53/53 [==============================] - 42s 790ms/step - loss: 1.1054e-04 - val_loss: 3.2305e-04\n",
            "Epoch 60/60\n",
            "53/53 [==============================] - 42s 791ms/step - loss: 1.0191e-04 - val_loss: 3.5439e-04\n",
            "Epoch 1/60\n",
            "53/53 [==============================] - 52s 815ms/step - loss: 0.0078 - val_loss: 0.0016\n",
            "Epoch 2/60\n",
            "53/53 [==============================] - 42s 793ms/step - loss: 2.7371e-04 - val_loss: 0.0013\n",
            "Epoch 3/60\n",
            "53/53 [==============================] - 42s 793ms/step - loss: 2.2628e-04 - val_loss: 0.0010\n",
            "Epoch 4/60\n",
            "53/53 [==============================] - 42s 799ms/step - loss: 2.1054e-04 - val_loss: 9.4493e-04\n",
            "Epoch 5/60\n",
            "53/53 [==============================] - 42s 794ms/step - loss: 2.1078e-04 - val_loss: 0.0013\n",
            "Epoch 6/60\n",
            "53/53 [==============================] - 41s 777ms/step - loss: 2.0050e-04 - val_loss: 0.0013\n",
            "Epoch 7/60\n",
            "53/53 [==============================] - 40s 751ms/step - loss: 1.9199e-04 - val_loss: 6.8302e-04\n",
            "Epoch 8/60\n",
            "53/53 [==============================] - 42s 768ms/step - loss: 1.9105e-04 - val_loss: 6.1469e-04\n",
            "Epoch 9/60\n",
            "53/53 [==============================] - 42s 778ms/step - loss: 1.9576e-04 - val_loss: 0.0011\n",
            "Epoch 10/60\n",
            "53/53 [==============================] - 42s 790ms/step - loss: 2.0754e-04 - val_loss: 5.5619e-04\n",
            "Epoch 11/60\n",
            "53/53 [==============================] - 43s 802ms/step - loss: 1.8055e-04 - val_loss: 0.0011\n",
            "Epoch 12/60\n",
            "53/53 [==============================] - 42s 791ms/step - loss: 1.8681e-04 - val_loss: 9.3074e-04\n",
            "Epoch 13/60\n",
            "53/53 [==============================] - 42s 788ms/step - loss: 1.7562e-04 - val_loss: 6.8123e-04\n",
            "Epoch 14/60\n",
            "53/53 [==============================] - 42s 788ms/step - loss: 1.7319e-04 - val_loss: 4.8919e-04\n",
            "Epoch 15/60\n",
            "53/53 [==============================] - 42s 794ms/step - loss: 1.7525e-04 - val_loss: 6.1820e-04\n",
            "Epoch 16/60\n",
            "53/53 [==============================] - 42s 789ms/step - loss: 1.7052e-04 - val_loss: 6.1938e-04\n",
            "Epoch 17/60\n",
            "53/53 [==============================] - 42s 790ms/step - loss: 1.6844e-04 - val_loss: 5.8896e-04\n",
            "Epoch 18/60\n",
            "53/53 [==============================] - 43s 805ms/step - loss: 1.5172e-04 - val_loss: 4.6693e-04\n",
            "Epoch 19/60\n",
            "53/53 [==============================] - 42s 797ms/step - loss: 1.5454e-04 - val_loss: 4.3293e-04\n",
            "Epoch 20/60\n",
            "53/53 [==============================] - 42s 793ms/step - loss: 1.4799e-04 - val_loss: 4.2757e-04\n",
            "Epoch 21/60\n",
            "53/53 [==============================] - 42s 787ms/step - loss: 1.6147e-04 - val_loss: 4.8647e-04\n",
            "Epoch 22/60\n",
            "53/53 [==============================] - 42s 792ms/step - loss: 1.4205e-04 - val_loss: 4.5461e-04\n",
            "Epoch 23/60\n",
            "53/53 [==============================] - 42s 801ms/step - loss: 1.3851e-04 - val_loss: 4.9407e-04\n",
            "Epoch 24/60\n",
            "53/53 [==============================] - 42s 791ms/step - loss: 1.3935e-04 - val_loss: 3.9074e-04\n",
            "Epoch 25/60\n",
            "28/53 [==============>...............] - ETA: 18s - loss: 1.4004e-04"
          ]
        },
        {
          "output_type": "error",
          "ename": "KeyboardInterrupt",
          "evalue": "ignored",
          "traceback": [
            "\u001b[0;31m---------------------------------------------------------------------------\u001b[0m",
            "\u001b[0;31mKeyboardInterrupt\u001b[0m                         Traceback (most recent call last)",
            "\u001b[0;32m<ipython-input-15-743e179cdd39>\u001b[0m in \u001b[0;36m<cell line: 2>\u001b[0;34m()\u001b[0m\n\u001b[1;32m      1\u001b[0m \u001b[0mearly_stop\u001b[0m \u001b[0;34m=\u001b[0m \u001b[0mEarlyStopping\u001b[0m\u001b[0;34m(\u001b[0m\u001b[0mmonitor\u001b[0m\u001b[0;34m=\u001b[0m\u001b[0mSEARCH_OBJECTIVE\u001b[0m\u001b[0;34m,\u001b[0m \u001b[0mpatience\u001b[0m\u001b[0;34m=\u001b[0m\u001b[0;36m15\u001b[0m\u001b[0;34m)\u001b[0m\u001b[0;34m\u001b[0m\u001b[0;34m\u001b[0m\u001b[0m\n\u001b[0;32m----> 2\u001b[0;31m \u001b[0mtuner\u001b[0m\u001b[0;34m.\u001b[0m\u001b[0msearch\u001b[0m\u001b[0;34m(\u001b[0m\u001b[0mX_train\u001b[0m\u001b[0;34m,\u001b[0m \u001b[0mY_train\u001b[0m\u001b[0;34m,\u001b[0m \u001b[0mepochs\u001b[0m\u001b[0;34m=\u001b[0m\u001b[0;36m60\u001b[0m\u001b[0;34m,\u001b[0m \u001b[0mbatch_size\u001b[0m\u001b[0;34m=\u001b[0m\u001b[0;36m32\u001b[0m\u001b[0;34m,\u001b[0m \u001b[0mvalidation_data\u001b[0m\u001b[0;34m=\u001b[0m\u001b[0;34m(\u001b[0m\u001b[0mX_valuation\u001b[0m\u001b[0;34m,\u001b[0m \u001b[0mY_valuation\u001b[0m\u001b[0;34m)\u001b[0m\u001b[0;34m,\u001b[0m \u001b[0mcallbacks\u001b[0m\u001b[0;34m=\u001b[0m\u001b[0;34m[\u001b[0m\u001b[0mearly_stop\u001b[0m\u001b[0;34m]\u001b[0m\u001b[0;34m)\u001b[0m\u001b[0;34m\u001b[0m\u001b[0;34m\u001b[0m\u001b[0m\n\u001b[0m",
            "\u001b[0;32m/usr/local/lib/python3.10/dist-packages/keras_tuner/src/engine/base_tuner.py\u001b[0m in \u001b[0;36msearch\u001b[0;34m(self, *fit_args, **fit_kwargs)\u001b[0m\n\u001b[1;32m    231\u001b[0m \u001b[0;34m\u001b[0m\u001b[0m\n\u001b[1;32m    232\u001b[0m             \u001b[0mself\u001b[0m\u001b[0;34m.\u001b[0m\u001b[0mon_trial_begin\u001b[0m\u001b[0;34m(\u001b[0m\u001b[0mtrial\u001b[0m\u001b[0;34m)\u001b[0m\u001b[0;34m\u001b[0m\u001b[0;34m\u001b[0m\u001b[0m\n\u001b[0;32m--> 233\u001b[0;31m             \u001b[0mself\u001b[0m\u001b[0;34m.\u001b[0m\u001b[0m_try_run_and_update_trial\u001b[0m\u001b[0;34m(\u001b[0m\u001b[0mtrial\u001b[0m\u001b[0;34m,\u001b[0m \u001b[0;34m*\u001b[0m\u001b[0mfit_args\u001b[0m\u001b[0;34m,\u001b[0m \u001b[0;34m**\u001b[0m\u001b[0mfit_kwargs\u001b[0m\u001b[0;34m)\u001b[0m\u001b[0;34m\u001b[0m\u001b[0;34m\u001b[0m\u001b[0m\n\u001b[0m\u001b[1;32m    234\u001b[0m             \u001b[0mself\u001b[0m\u001b[0;34m.\u001b[0m\u001b[0mon_trial_end\u001b[0m\u001b[0;34m(\u001b[0m\u001b[0mtrial\u001b[0m\u001b[0;34m)\u001b[0m\u001b[0;34m\u001b[0m\u001b[0;34m\u001b[0m\u001b[0m\n\u001b[1;32m    235\u001b[0m         \u001b[0mself\u001b[0m\u001b[0;34m.\u001b[0m\u001b[0mon_search_end\u001b[0m\u001b[0;34m(\u001b[0m\u001b[0;34m)\u001b[0m\u001b[0;34m\u001b[0m\u001b[0;34m\u001b[0m\u001b[0m\n",
            "\u001b[0;32m/usr/local/lib/python3.10/dist-packages/keras_tuner/src/engine/base_tuner.py\u001b[0m in \u001b[0;36m_try_run_and_update_trial\u001b[0;34m(self, trial, *fit_args, **fit_kwargs)\u001b[0m\n\u001b[1;32m    271\u001b[0m     \u001b[0;32mdef\u001b[0m \u001b[0m_try_run_and_update_trial\u001b[0m\u001b[0;34m(\u001b[0m\u001b[0mself\u001b[0m\u001b[0;34m,\u001b[0m \u001b[0mtrial\u001b[0m\u001b[0;34m,\u001b[0m \u001b[0;34m*\u001b[0m\u001b[0mfit_args\u001b[0m\u001b[0;34m,\u001b[0m \u001b[0;34m**\u001b[0m\u001b[0mfit_kwargs\u001b[0m\u001b[0;34m)\u001b[0m\u001b[0;34m:\u001b[0m\u001b[0;34m\u001b[0m\u001b[0;34m\u001b[0m\u001b[0m\n\u001b[1;32m    272\u001b[0m         \u001b[0;32mtry\u001b[0m\u001b[0;34m:\u001b[0m\u001b[0;34m\u001b[0m\u001b[0;34m\u001b[0m\u001b[0m\n\u001b[0;32m--> 273\u001b[0;31m             \u001b[0mself\u001b[0m\u001b[0;34m.\u001b[0m\u001b[0m_run_and_update_trial\u001b[0m\u001b[0;34m(\u001b[0m\u001b[0mtrial\u001b[0m\u001b[0;34m,\u001b[0m \u001b[0;34m*\u001b[0m\u001b[0mfit_args\u001b[0m\u001b[0;34m,\u001b[0m \u001b[0;34m**\u001b[0m\u001b[0mfit_kwargs\u001b[0m\u001b[0;34m)\u001b[0m\u001b[0;34m\u001b[0m\u001b[0;34m\u001b[0m\u001b[0m\n\u001b[0m\u001b[1;32m    274\u001b[0m             \u001b[0mtrial\u001b[0m\u001b[0;34m.\u001b[0m\u001b[0mstatus\u001b[0m \u001b[0;34m=\u001b[0m \u001b[0mtrial_module\u001b[0m\u001b[0;34m.\u001b[0m\u001b[0mTrialStatus\u001b[0m\u001b[0;34m.\u001b[0m\u001b[0mCOMPLETED\u001b[0m\u001b[0;34m\u001b[0m\u001b[0;34m\u001b[0m\u001b[0m\n\u001b[1;32m    275\u001b[0m             \u001b[0;32mreturn\u001b[0m\u001b[0;34m\u001b[0m\u001b[0;34m\u001b[0m\u001b[0m\n",
            "\u001b[0;32m/usr/local/lib/python3.10/dist-packages/keras_tuner/src/engine/base_tuner.py\u001b[0m in \u001b[0;36m_run_and_update_trial\u001b[0;34m(self, trial, *fit_args, **fit_kwargs)\u001b[0m\n\u001b[1;32m    236\u001b[0m \u001b[0;34m\u001b[0m\u001b[0m\n\u001b[1;32m    237\u001b[0m     \u001b[0;32mdef\u001b[0m \u001b[0m_run_and_update_trial\u001b[0m\u001b[0;34m(\u001b[0m\u001b[0mself\u001b[0m\u001b[0;34m,\u001b[0m \u001b[0mtrial\u001b[0m\u001b[0;34m,\u001b[0m \u001b[0;34m*\u001b[0m\u001b[0mfit_args\u001b[0m\u001b[0;34m,\u001b[0m \u001b[0;34m**\u001b[0m\u001b[0mfit_kwargs\u001b[0m\u001b[0;34m)\u001b[0m\u001b[0;34m:\u001b[0m\u001b[0;34m\u001b[0m\u001b[0;34m\u001b[0m\u001b[0m\n\u001b[0;32m--> 238\u001b[0;31m         \u001b[0mresults\u001b[0m \u001b[0;34m=\u001b[0m \u001b[0mself\u001b[0m\u001b[0;34m.\u001b[0m\u001b[0mrun_trial\u001b[0m\u001b[0;34m(\u001b[0m\u001b[0mtrial\u001b[0m\u001b[0;34m,\u001b[0m \u001b[0;34m*\u001b[0m\u001b[0mfit_args\u001b[0m\u001b[0;34m,\u001b[0m \u001b[0;34m**\u001b[0m\u001b[0mfit_kwargs\u001b[0m\u001b[0;34m)\u001b[0m\u001b[0;34m\u001b[0m\u001b[0;34m\u001b[0m\u001b[0m\n\u001b[0m\u001b[1;32m    239\u001b[0m         if self.oracle.get_trial(trial.trial_id).metrics.exists(\n\u001b[1;32m    240\u001b[0m             \u001b[0mself\u001b[0m\u001b[0;34m.\u001b[0m\u001b[0moracle\u001b[0m\u001b[0;34m.\u001b[0m\u001b[0mobjective\u001b[0m\u001b[0;34m.\u001b[0m\u001b[0mname\u001b[0m\u001b[0;34m\u001b[0m\u001b[0;34m\u001b[0m\u001b[0m\n",
            "\u001b[0;32m/usr/local/lib/python3.10/dist-packages/keras_tuner/src/engine/tuner.py\u001b[0m in \u001b[0;36mrun_trial\u001b[0;34m(self, trial, *args, **kwargs)\u001b[0m\n\u001b[1;32m    312\u001b[0m             \u001b[0mcallbacks\u001b[0m\u001b[0;34m.\u001b[0m\u001b[0mappend\u001b[0m\u001b[0;34m(\u001b[0m\u001b[0mmodel_checkpoint\u001b[0m\u001b[0;34m)\u001b[0m\u001b[0;34m\u001b[0m\u001b[0;34m\u001b[0m\u001b[0m\n\u001b[1;32m    313\u001b[0m             \u001b[0mcopied_kwargs\u001b[0m\u001b[0;34m[\u001b[0m\u001b[0;34m\"callbacks\"\u001b[0m\u001b[0;34m]\u001b[0m \u001b[0;34m=\u001b[0m \u001b[0mcallbacks\u001b[0m\u001b[0;34m\u001b[0m\u001b[0;34m\u001b[0m\u001b[0m\n\u001b[0;32m--> 314\u001b[0;31m             \u001b[0mobj_value\u001b[0m \u001b[0;34m=\u001b[0m \u001b[0mself\u001b[0m\u001b[0;34m.\u001b[0m\u001b[0m_build_and_fit_model\u001b[0m\u001b[0;34m(\u001b[0m\u001b[0mtrial\u001b[0m\u001b[0;34m,\u001b[0m \u001b[0;34m*\u001b[0m\u001b[0margs\u001b[0m\u001b[0;34m,\u001b[0m \u001b[0;34m**\u001b[0m\u001b[0mcopied_kwargs\u001b[0m\u001b[0;34m)\u001b[0m\u001b[0;34m\u001b[0m\u001b[0;34m\u001b[0m\u001b[0m\n\u001b[0m\u001b[1;32m    315\u001b[0m \u001b[0;34m\u001b[0m\u001b[0m\n\u001b[1;32m    316\u001b[0m             \u001b[0mhistories\u001b[0m\u001b[0;34m.\u001b[0m\u001b[0mappend\u001b[0m\u001b[0;34m(\u001b[0m\u001b[0mobj_value\u001b[0m\u001b[0;34m)\u001b[0m\u001b[0;34m\u001b[0m\u001b[0;34m\u001b[0m\u001b[0m\n",
            "\u001b[0;32m/usr/local/lib/python3.10/dist-packages/keras_tuner/src/engine/tuner.py\u001b[0m in \u001b[0;36m_build_and_fit_model\u001b[0;34m(self, trial, *args, **kwargs)\u001b[0m\n\u001b[1;32m    231\u001b[0m         \u001b[0mhp\u001b[0m \u001b[0;34m=\u001b[0m \u001b[0mtrial\u001b[0m\u001b[0;34m.\u001b[0m\u001b[0mhyperparameters\u001b[0m\u001b[0;34m\u001b[0m\u001b[0;34m\u001b[0m\u001b[0m\n\u001b[1;32m    232\u001b[0m         \u001b[0mmodel\u001b[0m \u001b[0;34m=\u001b[0m \u001b[0mself\u001b[0m\u001b[0;34m.\u001b[0m\u001b[0m_try_build\u001b[0m\u001b[0;34m(\u001b[0m\u001b[0mhp\u001b[0m\u001b[0;34m)\u001b[0m\u001b[0;34m\u001b[0m\u001b[0;34m\u001b[0m\u001b[0m\n\u001b[0;32m--> 233\u001b[0;31m         \u001b[0mresults\u001b[0m \u001b[0;34m=\u001b[0m \u001b[0mself\u001b[0m\u001b[0;34m.\u001b[0m\u001b[0mhypermodel\u001b[0m\u001b[0;34m.\u001b[0m\u001b[0mfit\u001b[0m\u001b[0;34m(\u001b[0m\u001b[0mhp\u001b[0m\u001b[0;34m,\u001b[0m \u001b[0mmodel\u001b[0m\u001b[0;34m,\u001b[0m \u001b[0;34m*\u001b[0m\u001b[0margs\u001b[0m\u001b[0;34m,\u001b[0m \u001b[0;34m**\u001b[0m\u001b[0mkwargs\u001b[0m\u001b[0;34m)\u001b[0m\u001b[0;34m\u001b[0m\u001b[0;34m\u001b[0m\u001b[0m\n\u001b[0m\u001b[1;32m    234\u001b[0m \u001b[0;34m\u001b[0m\u001b[0m\n\u001b[1;32m    235\u001b[0m         \u001b[0;31m# Save the build config for model loading later.\u001b[0m\u001b[0;34m\u001b[0m\u001b[0;34m\u001b[0m\u001b[0m\n",
            "\u001b[0;32m/usr/local/lib/python3.10/dist-packages/keras_tuner/src/engine/hypermodel.py\u001b[0m in \u001b[0;36mfit\u001b[0;34m(self, hp, model, *args, **kwargs)\u001b[0m\n\u001b[1;32m    147\u001b[0m             \u001b[0mIf\u001b[0m \u001b[0;32mreturn\u001b[0m \u001b[0ma\u001b[0m \u001b[0mfloat\u001b[0m\u001b[0;34m,\u001b[0m \u001b[0mit\u001b[0m \u001b[0mshould\u001b[0m \u001b[0mbe\u001b[0m \u001b[0mthe\u001b[0m\u001b[0;31m \u001b[0m\u001b[0;31m`\u001b[0m\u001b[0mobjective\u001b[0m\u001b[0;31m`\u001b[0m \u001b[0mvalue\u001b[0m\u001b[0;34m.\u001b[0m\u001b[0;34m\u001b[0m\u001b[0;34m\u001b[0m\u001b[0m\n\u001b[1;32m    148\u001b[0m         \"\"\"\n\u001b[0;32m--> 149\u001b[0;31m         \u001b[0;32mreturn\u001b[0m \u001b[0mmodel\u001b[0m\u001b[0;34m.\u001b[0m\u001b[0mfit\u001b[0m\u001b[0;34m(\u001b[0m\u001b[0;34m*\u001b[0m\u001b[0margs\u001b[0m\u001b[0;34m,\u001b[0m \u001b[0;34m**\u001b[0m\u001b[0mkwargs\u001b[0m\u001b[0;34m)\u001b[0m\u001b[0;34m\u001b[0m\u001b[0;34m\u001b[0m\u001b[0m\n\u001b[0m\u001b[1;32m    150\u001b[0m \u001b[0;34m\u001b[0m\u001b[0m\n\u001b[1;32m    151\u001b[0m \u001b[0;34m\u001b[0m\u001b[0m\n",
            "\u001b[0;32m/usr/local/lib/python3.10/dist-packages/keras/src/utils/traceback_utils.py\u001b[0m in \u001b[0;36merror_handler\u001b[0;34m(*args, **kwargs)\u001b[0m\n\u001b[1;32m     63\u001b[0m         \u001b[0mfiltered_tb\u001b[0m \u001b[0;34m=\u001b[0m \u001b[0;32mNone\u001b[0m\u001b[0;34m\u001b[0m\u001b[0;34m\u001b[0m\u001b[0m\n\u001b[1;32m     64\u001b[0m         \u001b[0;32mtry\u001b[0m\u001b[0;34m:\u001b[0m\u001b[0;34m\u001b[0m\u001b[0;34m\u001b[0m\u001b[0m\n\u001b[0;32m---> 65\u001b[0;31m             \u001b[0;32mreturn\u001b[0m \u001b[0mfn\u001b[0m\u001b[0;34m(\u001b[0m\u001b[0;34m*\u001b[0m\u001b[0margs\u001b[0m\u001b[0;34m,\u001b[0m \u001b[0;34m**\u001b[0m\u001b[0mkwargs\u001b[0m\u001b[0;34m)\u001b[0m\u001b[0;34m\u001b[0m\u001b[0;34m\u001b[0m\u001b[0m\n\u001b[0m\u001b[1;32m     66\u001b[0m         \u001b[0;32mexcept\u001b[0m \u001b[0mException\u001b[0m \u001b[0;32mas\u001b[0m \u001b[0me\u001b[0m\u001b[0;34m:\u001b[0m\u001b[0;34m\u001b[0m\u001b[0;34m\u001b[0m\u001b[0m\n\u001b[1;32m     67\u001b[0m             \u001b[0mfiltered_tb\u001b[0m \u001b[0;34m=\u001b[0m \u001b[0m_process_traceback_frames\u001b[0m\u001b[0;34m(\u001b[0m\u001b[0me\u001b[0m\u001b[0;34m.\u001b[0m\u001b[0m__traceback__\u001b[0m\u001b[0;34m)\u001b[0m\u001b[0;34m\u001b[0m\u001b[0;34m\u001b[0m\u001b[0m\n",
            "\u001b[0;32m/usr/local/lib/python3.10/dist-packages/keras/src/engine/training.py\u001b[0m in \u001b[0;36mfit\u001b[0;34m(self, x, y, batch_size, epochs, verbose, callbacks, validation_split, validation_data, shuffle, class_weight, sample_weight, initial_epoch, steps_per_epoch, validation_steps, validation_batch_size, validation_freq, max_queue_size, workers, use_multiprocessing)\u001b[0m\n\u001b[1;32m   1740\u001b[0m                         ):\n\u001b[1;32m   1741\u001b[0m                             \u001b[0mcallbacks\u001b[0m\u001b[0;34m.\u001b[0m\u001b[0mon_train_batch_begin\u001b[0m\u001b[0;34m(\u001b[0m\u001b[0mstep\u001b[0m\u001b[0;34m)\u001b[0m\u001b[0;34m\u001b[0m\u001b[0;34m\u001b[0m\u001b[0m\n\u001b[0;32m-> 1742\u001b[0;31m                             \u001b[0mtmp_logs\u001b[0m \u001b[0;34m=\u001b[0m \u001b[0mself\u001b[0m\u001b[0;34m.\u001b[0m\u001b[0mtrain_function\u001b[0m\u001b[0;34m(\u001b[0m\u001b[0miterator\u001b[0m\u001b[0;34m)\u001b[0m\u001b[0;34m\u001b[0m\u001b[0;34m\u001b[0m\u001b[0m\n\u001b[0m\u001b[1;32m   1743\u001b[0m                             \u001b[0;32mif\u001b[0m \u001b[0mdata_handler\u001b[0m\u001b[0;34m.\u001b[0m\u001b[0mshould_sync\u001b[0m\u001b[0;34m:\u001b[0m\u001b[0;34m\u001b[0m\u001b[0;34m\u001b[0m\u001b[0m\n\u001b[1;32m   1744\u001b[0m                                 \u001b[0mcontext\u001b[0m\u001b[0;34m.\u001b[0m\u001b[0masync_wait\u001b[0m\u001b[0;34m(\u001b[0m\u001b[0;34m)\u001b[0m\u001b[0;34m\u001b[0m\u001b[0;34m\u001b[0m\u001b[0m\n",
            "\u001b[0;32m/usr/local/lib/python3.10/dist-packages/tensorflow/python/util/traceback_utils.py\u001b[0m in \u001b[0;36merror_handler\u001b[0;34m(*args, **kwargs)\u001b[0m\n\u001b[1;32m    148\u001b[0m     \u001b[0mfiltered_tb\u001b[0m \u001b[0;34m=\u001b[0m \u001b[0;32mNone\u001b[0m\u001b[0;34m\u001b[0m\u001b[0;34m\u001b[0m\u001b[0m\n\u001b[1;32m    149\u001b[0m     \u001b[0;32mtry\u001b[0m\u001b[0;34m:\u001b[0m\u001b[0;34m\u001b[0m\u001b[0;34m\u001b[0m\u001b[0m\n\u001b[0;32m--> 150\u001b[0;31m       \u001b[0;32mreturn\u001b[0m \u001b[0mfn\u001b[0m\u001b[0;34m(\u001b[0m\u001b[0;34m*\u001b[0m\u001b[0margs\u001b[0m\u001b[0;34m,\u001b[0m \u001b[0;34m**\u001b[0m\u001b[0mkwargs\u001b[0m\u001b[0;34m)\u001b[0m\u001b[0;34m\u001b[0m\u001b[0;34m\u001b[0m\u001b[0m\n\u001b[0m\u001b[1;32m    151\u001b[0m     \u001b[0;32mexcept\u001b[0m \u001b[0mException\u001b[0m \u001b[0;32mas\u001b[0m \u001b[0me\u001b[0m\u001b[0;34m:\u001b[0m\u001b[0;34m\u001b[0m\u001b[0;34m\u001b[0m\u001b[0m\n\u001b[1;32m    152\u001b[0m       \u001b[0mfiltered_tb\u001b[0m \u001b[0;34m=\u001b[0m \u001b[0m_process_traceback_frames\u001b[0m\u001b[0;34m(\u001b[0m\u001b[0me\u001b[0m\u001b[0;34m.\u001b[0m\u001b[0m__traceback__\u001b[0m\u001b[0;34m)\u001b[0m\u001b[0;34m\u001b[0m\u001b[0;34m\u001b[0m\u001b[0m\n",
            "\u001b[0;32m/usr/local/lib/python3.10/dist-packages/tensorflow/python/eager/polymorphic_function/polymorphic_function.py\u001b[0m in \u001b[0;36m__call__\u001b[0;34m(self, *args, **kwds)\u001b[0m\n\u001b[1;32m    823\u001b[0m \u001b[0;34m\u001b[0m\u001b[0m\n\u001b[1;32m    824\u001b[0m       \u001b[0;32mwith\u001b[0m \u001b[0mOptionalXlaContext\u001b[0m\u001b[0;34m(\u001b[0m\u001b[0mself\u001b[0m\u001b[0;34m.\u001b[0m\u001b[0m_jit_compile\u001b[0m\u001b[0;34m)\u001b[0m\u001b[0;34m:\u001b[0m\u001b[0;34m\u001b[0m\u001b[0;34m\u001b[0m\u001b[0m\n\u001b[0;32m--> 825\u001b[0;31m         \u001b[0mresult\u001b[0m \u001b[0;34m=\u001b[0m \u001b[0mself\u001b[0m\u001b[0;34m.\u001b[0m\u001b[0m_call\u001b[0m\u001b[0;34m(\u001b[0m\u001b[0;34m*\u001b[0m\u001b[0margs\u001b[0m\u001b[0;34m,\u001b[0m \u001b[0;34m**\u001b[0m\u001b[0mkwds\u001b[0m\u001b[0;34m)\u001b[0m\u001b[0;34m\u001b[0m\u001b[0;34m\u001b[0m\u001b[0m\n\u001b[0m\u001b[1;32m    826\u001b[0m \u001b[0;34m\u001b[0m\u001b[0m\n\u001b[1;32m    827\u001b[0m       \u001b[0mnew_tracing_count\u001b[0m \u001b[0;34m=\u001b[0m \u001b[0mself\u001b[0m\u001b[0;34m.\u001b[0m\u001b[0mexperimental_get_tracing_count\u001b[0m\u001b[0;34m(\u001b[0m\u001b[0;34m)\u001b[0m\u001b[0;34m\u001b[0m\u001b[0;34m\u001b[0m\u001b[0m\n",
            "\u001b[0;32m/usr/local/lib/python3.10/dist-packages/tensorflow/python/eager/polymorphic_function/polymorphic_function.py\u001b[0m in \u001b[0;36m_call\u001b[0;34m(self, *args, **kwds)\u001b[0m\n\u001b[1;32m    855\u001b[0m       \u001b[0;31m# In this case we have created variables on the first call, so we run the\u001b[0m\u001b[0;34m\u001b[0m\u001b[0;34m\u001b[0m\u001b[0m\n\u001b[1;32m    856\u001b[0m       \u001b[0;31m# defunned version which is guaranteed to never create variables.\u001b[0m\u001b[0;34m\u001b[0m\u001b[0;34m\u001b[0m\u001b[0m\n\u001b[0;32m--> 857\u001b[0;31m       \u001b[0;32mreturn\u001b[0m \u001b[0mself\u001b[0m\u001b[0;34m.\u001b[0m\u001b[0m_no_variable_creation_fn\u001b[0m\u001b[0;34m(\u001b[0m\u001b[0;34m*\u001b[0m\u001b[0margs\u001b[0m\u001b[0;34m,\u001b[0m \u001b[0;34m**\u001b[0m\u001b[0mkwds\u001b[0m\u001b[0;34m)\u001b[0m  \u001b[0;31m# pylint: disable=not-callable\u001b[0m\u001b[0;34m\u001b[0m\u001b[0;34m\u001b[0m\u001b[0m\n\u001b[0m\u001b[1;32m    858\u001b[0m     \u001b[0;32melif\u001b[0m \u001b[0mself\u001b[0m\u001b[0;34m.\u001b[0m\u001b[0m_variable_creation_fn\u001b[0m \u001b[0;32mis\u001b[0m \u001b[0;32mnot\u001b[0m \u001b[0;32mNone\u001b[0m\u001b[0;34m:\u001b[0m\u001b[0;34m\u001b[0m\u001b[0;34m\u001b[0m\u001b[0m\n\u001b[1;32m    859\u001b[0m       \u001b[0;31m# Release the lock early so that multiple threads can perform the call\u001b[0m\u001b[0;34m\u001b[0m\u001b[0;34m\u001b[0m\u001b[0m\n",
            "\u001b[0;32m/usr/local/lib/python3.10/dist-packages/tensorflow/python/eager/polymorphic_function/tracing_compiler.py\u001b[0m in \u001b[0;36m__call__\u001b[0;34m(self, *args, **kwargs)\u001b[0m\n\u001b[1;32m    146\u001b[0m       (concrete_function,\n\u001b[1;32m    147\u001b[0m        filtered_flat_args) = self._maybe_define_function(args, kwargs)\n\u001b[0;32m--> 148\u001b[0;31m     return concrete_function._call_flat(\n\u001b[0m\u001b[1;32m    149\u001b[0m         filtered_flat_args, captured_inputs=concrete_function.captured_inputs)  # pylint: disable=protected-access\n\u001b[1;32m    150\u001b[0m \u001b[0;34m\u001b[0m\u001b[0m\n",
            "\u001b[0;32m/usr/local/lib/python3.10/dist-packages/tensorflow/python/eager/polymorphic_function/monomorphic_function.py\u001b[0m in \u001b[0;36m_call_flat\u001b[0;34m(self, args, captured_inputs)\u001b[0m\n\u001b[1;32m   1347\u001b[0m         and executing_eagerly):\n\u001b[1;32m   1348\u001b[0m       \u001b[0;31m# No tape is watching; skip to running the function.\u001b[0m\u001b[0;34m\u001b[0m\u001b[0;34m\u001b[0m\u001b[0m\n\u001b[0;32m-> 1349\u001b[0;31m       \u001b[0;32mreturn\u001b[0m \u001b[0mself\u001b[0m\u001b[0;34m.\u001b[0m\u001b[0m_build_call_outputs\u001b[0m\u001b[0;34m(\u001b[0m\u001b[0mself\u001b[0m\u001b[0;34m.\u001b[0m\u001b[0m_inference_function\u001b[0m\u001b[0;34m(\u001b[0m\u001b[0;34m*\u001b[0m\u001b[0margs\u001b[0m\u001b[0;34m)\u001b[0m\u001b[0;34m)\u001b[0m\u001b[0;34m\u001b[0m\u001b[0;34m\u001b[0m\u001b[0m\n\u001b[0m\u001b[1;32m   1350\u001b[0m     forward_backward = self._select_forward_and_backward_functions(\n\u001b[1;32m   1351\u001b[0m         \u001b[0margs\u001b[0m\u001b[0;34m,\u001b[0m\u001b[0;34m\u001b[0m\u001b[0;34m\u001b[0m\u001b[0m\n",
            "\u001b[0;32m/usr/local/lib/python3.10/dist-packages/tensorflow/python/eager/polymorphic_function/atomic_function.py\u001b[0m in \u001b[0;36m__call__\u001b[0;34m(self, *args)\u001b[0m\n\u001b[1;32m    194\u001b[0m         \u001b[0;32mwith\u001b[0m \u001b[0mrecord\u001b[0m\u001b[0;34m.\u001b[0m\u001b[0mstop_recording\u001b[0m\u001b[0;34m(\u001b[0m\u001b[0;34m)\u001b[0m\u001b[0;34m:\u001b[0m\u001b[0;34m\u001b[0m\u001b[0;34m\u001b[0m\u001b[0m\n\u001b[1;32m    195\u001b[0m           \u001b[0;32mif\u001b[0m \u001b[0mself\u001b[0m\u001b[0;34m.\u001b[0m\u001b[0m_bound_context\u001b[0m\u001b[0;34m.\u001b[0m\u001b[0mexecuting_eagerly\u001b[0m\u001b[0;34m(\u001b[0m\u001b[0;34m)\u001b[0m\u001b[0;34m:\u001b[0m\u001b[0;34m\u001b[0m\u001b[0;34m\u001b[0m\u001b[0m\n\u001b[0;32m--> 196\u001b[0;31m             outputs = self._bound_context.call_function(\n\u001b[0m\u001b[1;32m    197\u001b[0m                 \u001b[0mself\u001b[0m\u001b[0;34m.\u001b[0m\u001b[0mname\u001b[0m\u001b[0;34m,\u001b[0m\u001b[0;34m\u001b[0m\u001b[0;34m\u001b[0m\u001b[0m\n\u001b[1;32m    198\u001b[0m                 \u001b[0mlist\u001b[0m\u001b[0;34m(\u001b[0m\u001b[0margs\u001b[0m\u001b[0;34m)\u001b[0m\u001b[0;34m,\u001b[0m\u001b[0;34m\u001b[0m\u001b[0;34m\u001b[0m\u001b[0m\n",
            "\u001b[0;32m/usr/local/lib/python3.10/dist-packages/tensorflow/python/eager/context.py\u001b[0m in \u001b[0;36mcall_function\u001b[0;34m(self, name, tensor_inputs, num_outputs)\u001b[0m\n\u001b[1;32m   1455\u001b[0m     \u001b[0mcancellation_context\u001b[0m \u001b[0;34m=\u001b[0m \u001b[0mcancellation\u001b[0m\u001b[0;34m.\u001b[0m\u001b[0mcontext\u001b[0m\u001b[0;34m(\u001b[0m\u001b[0;34m)\u001b[0m\u001b[0;34m\u001b[0m\u001b[0;34m\u001b[0m\u001b[0m\n\u001b[1;32m   1456\u001b[0m     \u001b[0;32mif\u001b[0m \u001b[0mcancellation_context\u001b[0m \u001b[0;32mis\u001b[0m \u001b[0;32mNone\u001b[0m\u001b[0;34m:\u001b[0m\u001b[0;34m\u001b[0m\u001b[0;34m\u001b[0m\u001b[0m\n\u001b[0;32m-> 1457\u001b[0;31m       outputs = execute.execute(\n\u001b[0m\u001b[1;32m   1458\u001b[0m           \u001b[0mname\u001b[0m\u001b[0;34m.\u001b[0m\u001b[0mdecode\u001b[0m\u001b[0;34m(\u001b[0m\u001b[0;34m\"utf-8\"\u001b[0m\u001b[0;34m)\u001b[0m\u001b[0;34m,\u001b[0m\u001b[0;34m\u001b[0m\u001b[0;34m\u001b[0m\u001b[0m\n\u001b[1;32m   1459\u001b[0m           \u001b[0mnum_outputs\u001b[0m\u001b[0;34m=\u001b[0m\u001b[0mnum_outputs\u001b[0m\u001b[0;34m,\u001b[0m\u001b[0;34m\u001b[0m\u001b[0;34m\u001b[0m\u001b[0m\n",
            "\u001b[0;32m/usr/local/lib/python3.10/dist-packages/tensorflow/python/eager/execute.py\u001b[0m in \u001b[0;36mquick_execute\u001b[0;34m(op_name, num_outputs, inputs, attrs, ctx, name)\u001b[0m\n\u001b[1;32m     51\u001b[0m   \u001b[0;32mtry\u001b[0m\u001b[0;34m:\u001b[0m\u001b[0;34m\u001b[0m\u001b[0;34m\u001b[0m\u001b[0m\n\u001b[1;32m     52\u001b[0m     \u001b[0mctx\u001b[0m\u001b[0;34m.\u001b[0m\u001b[0mensure_initialized\u001b[0m\u001b[0;34m(\u001b[0m\u001b[0;34m)\u001b[0m\u001b[0;34m\u001b[0m\u001b[0;34m\u001b[0m\u001b[0m\n\u001b[0;32m---> 53\u001b[0;31m     tensors = pywrap_tfe.TFE_Py_Execute(ctx._handle, device_name, op_name,\n\u001b[0m\u001b[1;32m     54\u001b[0m                                         inputs, attrs, num_outputs)\n\u001b[1;32m     55\u001b[0m   \u001b[0;32mexcept\u001b[0m \u001b[0mcore\u001b[0m\u001b[0;34m.\u001b[0m\u001b[0m_NotOkStatusException\u001b[0m \u001b[0;32mas\u001b[0m \u001b[0me\u001b[0m\u001b[0;34m:\u001b[0m\u001b[0;34m\u001b[0m\u001b[0;34m\u001b[0m\u001b[0m\n",
            "\u001b[0;31mKeyboardInterrupt\u001b[0m: "
          ]
        }
      ],
      "source": [
        "early_stop = EarlyStopping(monitor=SEARCH_OBJECTIVE, patience=15)\n",
        "tuner.search(X_train, Y_train, epochs=60, batch_size=32, validation_data=(X_valuation, Y_valuation), callbacks=[early_stop])"
      ]
    },
    {
      "cell_type": "code",
      "execution_count": null,
      "metadata": {
        "colab": {
          "base_uri": "https://localhost:8080/"
        },
        "id": "Y9mzUJxvnBBV",
        "outputId": "c9c05eec-5534-4e41-815f-9fd30048d34b"
      },
      "outputs": [
        {
          "name": "stdout",
          "output_type": "stream",
          "text": [
            "Results summary\n",
            "Results in Stock Price LSTM/val_loss\n",
            "Showing 10 best trials\n",
            "Objective(name=\"val_loss\", direction=\"min\")\n",
            "\n",
            "Trial 00 summary\n",
            "Hyperparameters:\n",
            "units_input: 128\n",
            "dropout_1: 0.0\n",
            "units_hidden: 256\n",
            "dropout_2: 0.2\n",
            "units_output: 32\n",
            "dropout_3: 0.1\n",
            "Score: 0.00014547299360856414\n",
            "\n",
            "Trial 08 summary\n",
            "Hyperparameters:\n",
            "units_input: 32\n",
            "dropout_1: 0.0\n",
            "units_hidden: 192\n",
            "dropout_2: 0.2\n",
            "units_output: 224\n",
            "dropout_3: 0.2\n",
            "Score: 0.00016066874377429485\n",
            "\n",
            "Trial 06 summary\n",
            "Hyperparameters:\n",
            "units_input: 256\n",
            "dropout_1: 0.2\n",
            "units_hidden: 160\n",
            "dropout_2: 0.1\n",
            "units_output: 192\n",
            "dropout_3: 0.30000000000000004\n",
            "Score: 0.00017349929839838296\n",
            "\n",
            "Trial 03 summary\n",
            "Hyperparameters:\n",
            "units_input: 160\n",
            "dropout_1: 0.2\n",
            "units_hidden: 224\n",
            "dropout_2: 0.2\n",
            "units_output: 224\n",
            "dropout_3: 0.30000000000000004\n",
            "Score: 0.00017402703815605491\n",
            "\n",
            "Trial 05 summary\n",
            "Hyperparameters:\n",
            "units_input: 192\n",
            "dropout_1: 0.1\n",
            "units_hidden: 32\n",
            "dropout_2: 0.1\n",
            "units_output: 96\n",
            "dropout_3: 0.1\n",
            "Score: 0.00018804958381224424\n",
            "\n",
            "Trial 07 summary\n",
            "Hyperparameters:\n",
            "units_input: 160\n",
            "dropout_1: 0.0\n",
            "units_hidden: 96\n",
            "dropout_2: 0.30000000000000004\n",
            "units_output: 256\n",
            "dropout_3: 0.30000000000000004\n",
            "Score: 0.00021263673261273652\n",
            "\n",
            "Trial 01 summary\n",
            "Hyperparameters:\n",
            "units_input: 224\n",
            "dropout_1: 0.1\n",
            "units_hidden: 160\n",
            "dropout_2: 0.4\n",
            "units_output: 192\n",
            "dropout_3: 0.4\n",
            "Score: 0.0002481486590113491\n",
            "\n",
            "Trial 04 summary\n",
            "Hyperparameters:\n",
            "units_input: 96\n",
            "dropout_1: 0.2\n",
            "units_hidden: 96\n",
            "dropout_2: 0.4\n",
            "units_output: 96\n",
            "dropout_3: 0.0\n",
            "Score: 0.0002567390911281109\n",
            "\n",
            "Trial 02 summary\n",
            "Hyperparameters:\n",
            "units_input: 128\n",
            "dropout_1: 0.30000000000000004\n",
            "units_hidden: 256\n",
            "dropout_2: 0.30000000000000004\n",
            "units_output: 192\n",
            "dropout_3: 0.30000000000000004\n",
            "Score: 0.0002709794498514384\n",
            "\n",
            "Trial 09 summary\n",
            "Hyperparameters:\n",
            "units_input: 128\n",
            "dropout_1: 0.2\n",
            "units_hidden: 160\n",
            "dropout_2: 0.2\n",
            "units_output: 192\n",
            "dropout_3: 0.2\n",
            "Score: 0.34760114550590515\n"
          ]
        }
      ],
      "source": [
        "tuner.results_summary()"
      ]
    },
    {
      "cell_type": "code",
      "execution_count": null,
      "metadata": {
        "colab": {
          "base_uri": "https://localhost:8080/"
        },
        "id": "x_MU_3u3corT",
        "outputId": "371e2278-dbcc-4203-9bb3-2666edde50e7"
      },
      "outputs": [
        {
          "name": "stdout",
          "output_type": "stream",
          "text": [
            "Model: \"sequential\"\n",
            "_________________________________________________________________\n",
            " Layer (type)                Output Shape              Param #   \n",
            "=================================================================\n",
            " lstm (LSTM)                 (None, 60, 128)           66560     \n",
            "                                                                 \n",
            " dropout (Dropout)           (None, 60, 128)           0         \n",
            "                                                                 \n",
            " lstm_1 (LSTM)               (None, 60, 256)           394240    \n",
            "                                                                 \n",
            " dropout_1 (Dropout)         (None, 60, 256)           0         \n",
            "                                                                 \n",
            " lstm_2 (LSTM)               (None, 32)                36992     \n",
            "                                                                 \n",
            " dropout_2 (Dropout)         (None, 32)                0         \n",
            "                                                                 \n",
            " dense (Dense)               (None, 1)                 33        \n",
            "                                                                 \n",
            "=================================================================\n",
            "Total params: 497825 (1.90 MB)\n",
            "Trainable params: 497825 (1.90 MB)\n",
            "Non-trainable params: 0 (0.00 Byte)\n",
            "_________________________________________________________________\n",
            "Best Hyperparameters: {'space': [{'class_name': 'Int', 'config': {'name': 'units_input', 'default': None, 'conditions': [], 'min_value': 32, 'max_value': 256, 'step': 32, 'sampling': 'linear'}}, {'class_name': 'Float', 'config': {'name': 'dropout_1', 'default': 0.0, 'conditions': [], 'min_value': 0.0, 'max_value': 0.5, 'step': 0.1, 'sampling': 'linear'}}, {'class_name': 'Int', 'config': {'name': 'units_hidden', 'default': None, 'conditions': [], 'min_value': 32, 'max_value': 256, 'step': 32, 'sampling': 'linear'}}, {'class_name': 'Float', 'config': {'name': 'dropout_2', 'default': 0.0, 'conditions': [], 'min_value': 0.0, 'max_value': 0.5, 'step': 0.1, 'sampling': 'linear'}}, {'class_name': 'Int', 'config': {'name': 'units_output', 'default': None, 'conditions': [], 'min_value': 32, 'max_value': 256, 'step': 32, 'sampling': 'linear'}}, {'class_name': 'Float', 'config': {'name': 'dropout_3', 'default': 0.0, 'conditions': [], 'min_value': 0.0, 'max_value': 0.5, 'step': 0.1, 'sampling': 'linear'}}], 'values': {'units_input': 128, 'dropout_1': 0.0, 'units_hidden': 256, 'dropout_2': 0.2, 'units_output': 32, 'dropout_3': 0.1}}\n"
          ]
        }
      ],
      "source": [
        "# Retrieve and print the best model from tuner\n",
        "tuner_best_model = tuner.get_best_models(num_models=1)[0]\n",
        "tuner_best_model.build(input_shape=(None,28,28))\n",
        "tuner_best_model.summary()\n",
        "\n",
        "    # Retrieve and print the best hyperparameters.\n",
        "best_hps = tuner.get_best_hyperparameters(num_trials=1)[0]\n",
        "print(\"Best Hyperparameters:\", best_hps.get_config())\n",
        "\n"
      ]
    },
    {
      "cell_type": "code",
      "execution_count": null,
      "metadata": {
        "id": "o636zwatdWY5"
      },
      "outputs": [],
      "source": [
        "SAVED_OUTPUT_DATA_PATH = '/content/drive/My Drive/Anyfile Notepad Files/'\n",
        "\n",
        "def save_hyperparameters_to_file(hps, filename):\n",
        "    with open(filename, 'w') as f:\n",
        "        json.dump(hps.get_config(), f)\n",
        "\n",
        "\n",
        "# saved the hyperparameters to file.\n",
        "timestamp = datetime.now().strftime(\"%Y%m%d_%H%M%S\")\n",
        "filename = f\"{SAVED_OUTPUT_DATA_PATH}hyperparameters_{timestamp}.json\"\n",
        "save_hyperparameters_to_file(best_hps, filename)"
      ]
    },
    {
      "cell_type": "code",
      "execution_count": null,
      "metadata": {
        "id": "rqokRv9ydeR0"
      },
      "outputs": [],
      "source": [
        "N_FUTURE = 20\n",
        "\n",
        "\n",
        "def generate_forecasts(n_future, X, Y, model, scaler):\n",
        "    \"\"\"\n",
        "    Generates multi-step forecasts using a trained model.\n",
        "\n",
        "    Parameters:\n",
        "    - n_future (int): Number of future time steps to predict.\n",
        "    - X (np.ndarray): Input sequences for the model.\n",
        "    - Y (np.ndarray): Corresponding target values for the input sequences.\n",
        "    - model (tf.keras.Model): Trained forecasting model.\n",
        "    - scaler (scikit-learn scaler): Scaler used to scale the data.\n",
        "\n",
        "    Returns:\n",
        "    - y_future_rescaled (np.ndarray): Forecasted values in the original scale.\n",
        "    \"\"\"\n",
        "\n",
        "    y_future = []\n",
        "\n",
        "    x_pred = X[-1:, :, :]  # last observed input sequence\n",
        "    y_pred = Y[-1]  # last observed target value\n",
        "\n",
        "    for _ in range(n_future):\n",
        "        # feed the last forecast back to the model as an input\n",
        "        x_pred = np.append(x_pred[:, 1:, :], y_pred.reshape(1, 1, 1), axis=1)\n",
        "\n",
        "        # generate the next forecast\n",
        "        y_pred = model.predict(x_pred)\n",
        "\n",
        "        # save the forecast\n",
        "        y_future.append(y_pred.flatten()[0])\n",
        "\n",
        "    # transform the forecasts back to the original scale\n",
        "    y_future_array = np.array(y_future).reshape(-1, 1)\n",
        "    y_future_rescaled = scaler.inverse_transform(y_future_array)\n",
        "\n",
        "    return y_future_rescaled\n",
        "\n",
        "\n",
        "y_pred = tuner_best_model.predict(X_test)\n",
        "y_future_rescaled = generate_forecasts(N_FUTURE, X_test, y_pred, tuner_best_model, scaler)\n",
        "\n",
        "y_pred_rescaled = scaler.inverse_transform(y_pred)\n",
        "Y_test_rescaled = scaler.inverse_transform([Y_test])"
      ]
    },
    {
      "cell_type": "markdown",
      "metadata": {
        "id": "jt3Uil3jvYA5"
      },
      "source": [
        "Predicted with the model object which is built by build_model function, not from the get_best_model from the tuner."
      ]
    },
    {
      "cell_type": "code",
      "execution_count": null,
      "metadata": {
        "colab": {
          "base_uri": "https://localhost:8080/"
        },
        "id": "80Twq9xTdfUN",
        "outputId": "d05f97b5-030b-42cf-a498-43d8b282143e"
      },
      "outputs": [
        {
          "name": "stdout",
          "output_type": "stream",
          "text": [
            "MSE:  14.78058903865821\n",
            "MSLE:  0.0006034633172605782\n",
            "MAE:  3.0707207910486165\n",
            "R-squared:  0.9460051064019346\n"
          ]
        }
      ],
      "source": [
        "def create_future_dates(yyyymmdd, n_future):\n",
        "    date = pd.to_datetime(yyyymmdd)\n",
        "    next_date = date + pd.Timedelta(days=1)\n",
        "    future_days =  pd.DataFrame(pd.date_range(start=next_date, periods=n_future ),\n",
        "                                columns=['Date'])\n",
        "    return future_days\n",
        "\n",
        "def save_forecast_to_csv(close_prices_df, y_future, n_future, suffic):\n",
        "    # Extracting the last date\n",
        "    last_date = close_prices_df.index[-1]\n",
        "    next_date = last_date + pd.Timedelta(days=1)\n",
        "    future_dates = pd.date_range(start=next_date, periods=n_future)\n",
        "    # Creating the DataFrame for future dates\n",
        "    forecast_df = pd.DataFrame({'Date': future_dates, 'Forecasted_Close': y_future.flatten()})\n",
        "\n",
        "    # Setting the filename as per the given rules\n",
        "    base_name = INPUT_DATA_FILE.split('.')[0]\n",
        "    #file_name = f\"{base_name}_fut_{n_future}.csv\"\n",
        "    file_name = f\"{base_name}{suffic}{n_future}.csv\"\n",
        "\n",
        "    # Saving the DataFrame to a CSV file\n",
        "    forecast_df.to_csv(file_name, index=False)\n",
        "    logging.info(f\"Forecasted data saved to {file_name}\")\n",
        "\n",
        "\n",
        "def evaluate_model(Y_test, y_pred):\n",
        "    mse = mean_squared_error(Y_test[0], y_pred)\n",
        "    msle = mean_squared_log_error(Y_test[0], y_pred)\n",
        "    mae = mean_absolute_error(Y_test[0], y_pred)\n",
        "    r2 = r2_score(Y_test[0], y_pred)\n",
        "\n",
        "    print('MSE: ', mse)\n",
        "    print('MSLE: ', msle)\n",
        "    print('MAE: ', mae)\n",
        "    print('R-squared: ', r2)\n",
        "\n",
        "TUNER_SUFFIX = '_T_FUT_'\n",
        "evaluate_model(Y_test_rescaled, y_pred_rescaled)\n",
        "save_forecast_to_csv(close_prices, y_future_rescaled, N_FUTURE, TUNER_SUFFIX)\n"
      ]
    },
    {
      "cell_type": "code",
      "execution_count": null,
      "metadata": {
        "colab": {
          "base_uri": "https://localhost:8080/",
          "height": 554
        },
        "id": "DDm-PA_rdf8-",
        "outputId": "b9a5f343-20c2-47ef-fd13-4cdc2bf5f92f"
      },
      "outputs": [
        {
          "data": {
            "image/png": "[encoded data removed]",
            "text/plain": [
              "<Figure size 1000x600 with 1 Axes>"
            ]
          },
          "metadata": {},
          "output_type": "display_data"
        }
      ],
      "source": [
        "def plot_predictions(df, train_size,n_future, look_back, Y_test, y_pred,y_future):\n",
        "    #future_dates = pd.date_range(df[\"Date\"][train_size + look_back:].iloc[-1], periods=n_future + 1)[:-1]\n",
        "    last_date = df[\"Date\"][train_size + look_back:].iloc[-1]\n",
        "    future_dates = create_future_dates(last_date, n_future)\n",
        "\n",
        "    plt.figure(figsize=(10, 6))\n",
        "    plt.style.use('fivethirtyeight')\n",
        "    plt.plot(df[\"Date\"][train_size + look_back:], Y_test.flatten(), label=\"Actual\", linewidth=3, alpha=0.4)\n",
        "    plt.plot(df[\"Date\"][train_size + look_back:], y_pred.flatten(), label=\"Predicted\", linewidth=1.5, color='blue')\n",
        "    plt.plot(future_dates, y_future.flatten(), label=\"Future\", linewidth=1.5, color='orange')\n",
        "  #plt.plot(df[\"Date\"][train_size + look_back:], y_future.flatten(), label=\"Future\", linewidth=1.5, color='green')\n",
        "\n",
        "\n",
        "plot_predictions(df, train_size, N_FUTURE, LOOK_BACK, Y_test_rescaled, y_pred_rescaled,y_future_rescaled)"
      ]
    },
    {
      "cell_type": "markdown",
      "metadata": {
        "id": "m7bJ1HpfV7g3"
      },
      "source": [
        "Now, try to rebuilt the model object from the best hyperparameters;rather than get the best model object from the tuner."
      ]
    },
    {
      "cell_type": "code",
      "execution_count": null,
      "metadata": {
        "colab": {
          "base_uri": "https://localhost:8080/"
        },
        "id": "FnOjjcH7ySUa",
        "outputId": "957a95f4-fd06-42a7-ea09-e6e051aef4fe"
      },
      "outputs": [
        {
          "name": "stdout",
          "output_type": "stream",
          "text": [
            "75/75 [==============================] - 7s 13ms/step - loss: 0.0035\n"
          ]
        },
        {
          "data": {
            "text/plain": [
              "<keras.src.callbacks.History at 0x7895a4366020>"
            ]
          },
          "execution_count": 21,
          "metadata": {},
          "output_type": "execute_result"
        }
      ],
      "source": [
        "# Build the model with the best hp.\n",
        "built_model = build_model(best_hps, (X_train.shape[1], 1))\n",
        "# Fit with the entire dataset.\n",
        "x_all = np.concatenate((X_train, X_test))\n",
        "y_all = np.concatenate((Y_train, Y_test))\n",
        "built_model.fit(x=x_all, y=y_all, epochs=1)"
      ]
    },
    {
      "cell_type": "markdown",
      "metadata": {
        "id": "yRq1PzM2WeeF"
      },
      "source": [
        "Using this built model object to forecast the future"
      ]
    },
    {
      "cell_type": "code",
      "execution_count": null,
      "metadata": {
        "id": "JcnEHHhIxoNF"
      },
      "outputs": [],
      "source": [
        "y_pred2 = built_model.predict(X_test)\n",
        "y_future2_rescaled = generate_forecasts(N_FUTURE, X_test, y_pred2, built_model, scaler)\n",
        "y_pred2_rescaled = scaler.inverse_transform(y_pred2)"
      ]
    },
    {
      "cell_type": "markdown",
      "metadata": {
        "id": "pY96WaGLW_Ne"
      },
      "source": [
        "Do the same to evaluate the errors metric and save it to file\n"
      ]
    },
    {
      "cell_type": "code",
      "execution_count": null,
      "metadata": {
        "id": "PfR9IGewx1DD"
      },
      "outputs": [],
      "source": [
        "TUNER_SUFFIX = '_M_FUT_'  # model's forecast future data\n",
        "\n",
        "evaluate_model(Y_test_rescaled, y_pred2_rescaled)\n",
        "save_forecast_to_csv(close_prices, y_futur2_rescaled, N_FUTURE)\n"
      ]
    },
    {
      "cell_type": "markdown",
      "metadata": {
        "id": "cP6mgsWjXRsn"
      },
      "source": [
        "Plot the forecast to the graph\n"
      ]
    },
    {
      "cell_type": "code",
      "execution_count": null,
      "metadata": {
        "id": "Z7nh-xXTdgG1"
      },
      "outputs": [],
      "source": [
        "plot_predictions(df, train_size, N_FUTURE, LOOK_BACK, Y_test_rescaled, y_pred2_rescaled,y_future2_rescaled)"
      ]
    }
  ],
  "metadata": {
    "accelerator": "GPU",
    "colab": {
      "provenance": [],
      "authorship_tag": "ABX9TyPkf72NNAgBee+eP6QhGvbH",
      "include_colab_link": true
    },
    "kernelspec": {
      "display_name": "Python 3",
      "name": "python3"
    },
    "language_info": {
      "name": "python"
    }
  },
  "nbformat": 4,
  "nbformat_minor": 0
}